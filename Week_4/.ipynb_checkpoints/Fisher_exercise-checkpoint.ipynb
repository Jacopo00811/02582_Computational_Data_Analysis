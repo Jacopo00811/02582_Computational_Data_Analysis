{
 "cells": [
  {
   "cell_type": "code",
   "execution_count": null,
   "metadata": {},
   "outputs": [],
   "source": [
    "import numpy as np\n",
    "from sklearn.metrics import confusion_matrix\n",
    "import os\n",
    "import matplotlib.pyplot as plt\n",
    "\n",
    "# seaborn can be used to \"prettify\" default matplotlib plots by importing and setting as default\n",
    "import seaborn as sns\n",
    "sns.set() # Set searborn as default"
   ]
  },
  {
   "cell_type": "markdown",
   "metadata": {},
   "source": [
    "## Load dataset"
   ]
  },
  {
   "cell_type": "code",
   "execution_count": null,
   "metadata": {},
   "outputs": [],
   "source": [
    "dataPath = os.path.join('..','Data', 'FisherIris.csv')\n",
    "# Dump data file into an array\n",
    "with open(dataPath, \"r\") as ins:\n",
    "    listArray = [line.replace('\\n', '').split('\\t') for line in ins]\n",
    "    \n",
    "attributeNames = []\n",
    "\n",
    "# Encode data in desired format\n",
    "n = len(listArray) - 1\n",
    "p = len(listArray[0][0].split(',')) - 1\n",
    "X = np.zeros((n, p))\n",
    "y = np.zeros(n)\n",
    "for i, data in enumerate(listArray):\n",
    "    dataTemp = data[0].split(',')\n",
    "    if i == 0: # first row is attribute names\n",
    "        attributeNames = dataTemp[0:4]\n",
    "    else:\n",
    "        X[i - 1,:] = dataTemp[0:4]\n",
    "        flowerInd = dataTemp[4]\n",
    "        if flowerInd == 'Setosa':\n",
    "            y[i-1] = 0\n",
    "        elif flowerInd == \"Versicolor\":\n",
    "            y[i-1] = 1\n",
    "        else:\n",
    "            y[i-1] = 2"
   ]
  },
  {
   "cell_type": "markdown",
   "metadata": {},
   "source": [
    "> Calculate plug-in estimates of $\\hat{\\pi}_k$, $\\hat{\\mu}_k$, and $\\hat{\\Sigma}$"
   ]
  },
  {
   "cell_type": "code",
   "execution_count": null,
   "metadata": {},
   "outputs": [],
   "source": [
    "pi = np.zeros(3)\n",
    "mu = np.zeros((3, p))\n",
    "S = np.zeros((p,p))\n",
    "\n",
    "\n",
    "\n",
    "print(pi)\n",
    "print(mu)\n",
    "print(S)"
   ]
  },
  {
   "cell_type": "markdown",
   "metadata": {},
   "source": [
    "> Calculate discriminant function $\\delta_k$"
   ]
  },
  {
   "cell_type": "code",
   "execution_count": null,
   "metadata": {},
   "outputs": [],
   "source": [
    "def produceDiscriminantLine(X, S, mu, pi):\n",
    "    \n",
    "    \n",
    "    return\n",
    "\n",
    "# Discriminants\n",
    "d = np.zeros((3, n))\n",
    "for i in range(3):\n",
    "    d[i,:] = produceDiscriminantLine(X, S, mu[i,:], pi[i])"
   ]
  },
  {
   "cell_type": "markdown",
   "metadata": {},
   "source": [
    "> Predict class belongings for all observations in training data"
   ]
  },
  {
   "cell_type": "code",
   "execution_count": null,
   "metadata": {},
   "outputs": [],
   "source": [
    "# Classify according to discriminant\n",
    "yhat = "
   ]
  },
  {
   "cell_type": "markdown",
   "metadata": {},
   "source": [
    "> Calculate the confusion matrix for training data"
   ]
  },
  {
   "cell_type": "code",
   "execution_count": null,
   "metadata": {},
   "outputs": [],
   "source": [
    "# If you run version 0.22 or higher of sklearn then you can plot the confusion matrix.\n",
    "# Plot non-normalized confusion matrix\n",
    "from sklearn.metrics import ConfusionMatrixDisplay\n",
    "\n",
    "disp = \n",
    "\n",
    "# NOTE: Fill all variables here with default values of the plot_confusion_matrix\n",
    "disp = disp.plot(include_values=True, cmap='Blues', ax=None)\n",
    "plt.grid(None)\n",
    "plt.show()"
   ]
  }
 ],
 "metadata": {
  "kernelspec": {
   "display_name": "Python 3",
   "language": "python",
   "name": "python3"
  },
  "language_info": {
   "codemirror_mode": {
    "name": "ipython",
    "version": 3
   },
   "file_extension": ".py",
   "mimetype": "text/x-python",
   "name": "python",
   "nbconvert_exporter": "python",
   "pygments_lexer": "ipython3",
   "version": "3.8.3"
  }
 },
 "nbformat": 4,
 "nbformat_minor": 4
}
