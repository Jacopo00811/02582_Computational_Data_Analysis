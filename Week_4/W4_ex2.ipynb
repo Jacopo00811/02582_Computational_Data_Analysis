{
 "cells": [
  {
   "cell_type": "code",
   "execution_count": 29,
   "metadata": {},
   "outputs": [],
   "source": [
    "from __future__ import division\n",
    "import numpy as np\n",
    "import pandas as pd\n",
    "from sklearn.linear_model import LogisticRegression, LogisticRegressionCV\n",
    "from sklearn.model_selection import KFold, StratifiedKFold\n",
    "import sklearn as sk\n",
    "import matplotlib.pyplot as plt\n",
    "import os\n",
    "from sklearn import preprocessing\n",
    "import warnings  # to silence convergence warnings\n",
    "\n",
    "# seaborn can be used to \"prettify\" default matplotlib plots by importing and setting as default\n",
    "import seaborn as sns\n",
    "\n",
    "sns.set()  # Set searborn as default"
   ]
  },
  {
   "cell_type": "markdown",
   "metadata": {},
   "source": [
    "## Load dataset\n"
   ]
  },
  {
   "cell_type": "code",
   "execution_count": 30,
   "metadata": {},
   "outputs": [
    {
     "name": "stdout",
     "output_type": "stream",
     "text": [
      "(36, 7127)\n",
      "(36,)\n"
     ]
    }
   ],
   "source": [
    "# read in the data to pandas dataframes and convert to numpy arrays\n",
    "GXtrain = pd.read_csv(\n",
    "    os.path.join(\"../Week_4\", \"Data\", \"GolubGXtrain.csv\"), header=None\n",
    ")\n",
    "GXtest = pd.read_csv(os.path.join(\"../Week_4\", \"Data\", \"GolubGXtest.csv\"), header=None)\n",
    "\n",
    "Xtrain = np.array(GXtrain.loc[:, GXtrain.columns != 0])\n",
    "Ytrain = np.array(GXtrain.loc[:, GXtrain.columns == 0]).ravel()\n",
    "\n",
    "Xtest = np.array(GXtest.loc[:, GXtest.columns != 0])\n",
    "Ytest = np.array(GXtest.loc[:, GXtest.columns == 0]).ravel()\n",
    "\n",
    "print(Xtrain.shape)\n",
    "print(Ytrain.shape)"
   ]
  },
  {
   "cell_type": "markdown",
   "metadata": {},
   "source": [
    "### 2 We have a data material (Golub et al 1999) with gene expression levels from 72 patients with two forms of leukemia, acute myeloid leukemia (AML) and acute lymphoblastic leukemia (ALL). Gene expression levels (how actively the cells are using the information in different genes) are measured for 7127 genes. We would like to build a biomarker for classification of the two cancer forms. Ideally, we would like to use only a few variables."
   ]
  },
  {
   "cell_type": "markdown",
   "metadata": {},
   "source": [
    "> a) How can you use logistic regression here?\n",
    "\n",
    "You can't use normal logistic regression if p >> n, but you can use regularaized logistic regrassion.\n",
    "\n",
    "> b) Build a classifier for training data in GolubGXtrain.csv. What regularization method do you prefer if you want to have few genes in the biomarker?\n",
    "\n",
    "We probabily need lasso regularized logistic regression."
   ]
  },
  {
   "cell_type": "code",
   "execution_count": 31,
   "metadata": {},
   "outputs": [
    {
     "name": "stdout",
     "output_type": "stream",
     "text": [
      "CV lambda 1 std rule 0.03\n"
     ]
    },
    {
     "data": {
      "image/png": "[encoded data removed]",
      "text/plain": [
       "<Figure size 640x480 with 1 Axes>"
      ]
     },
     "metadata": {},
     "output_type": "display_data"
    }
   ],
   "source": [
    "def devianceFunc(ytrue, yscores):\n",
    "    return 2 * sk.metrics.log_loss(ytrue, yscores, normalize=False)\n",
    "\n",
    "\n",
    "lambdas = np.logspace(-4, 2, 50)\n",
    "K = 10\n",
    "CV = StratifiedKFold(\n",
    "    K, shuffle=True, random_state=42\n",
    ")  # Select CrossValidation Strategy\n",
    "X_standardizer = preprocessing.StandardScaler()  # Select normalization strategy\n",
    "\n",
    "deviance = np.zeros((K, len(lambdas)))\n",
    "with (\n",
    "    warnings.catch_warnings()\n",
    "):  # done to disable all the convergence warnings from elastic net\n",
    "    warnings.simplefilter(\"ignore\")\n",
    "    # Setup CrossValidation loop\n",
    "    for i, (train_index, test_index) in enumerate(CV.split(Xtrain, Ytrain)):\n",
    "        X_train, Y_train = Xtrain[train_index, :], Ytrain[train_index]\n",
    "        X_test, Y_test = Xtrain[test_index, :], Ytrain[test_index]\n",
    "\n",
    "        X_train = X_standardizer.fit_transform(X_train)\n",
    "        X_test = X_standardizer.transform(X_test)\n",
    "        # Setup loop over possible lambdas\n",
    "        for k, lmb in enumerate(lambdas):\n",
    "            # For each lambda run logistic regression\n",
    "            model = LogisticRegression(\n",
    "                penalty=\"l1\", C=1 / lmb, solver=\"liblinear\", tol=1e-6\n",
    "            )\n",
    "            model = model.fit(X_train, Y_train)\n",
    "            # Predict the data in the test fold\n",
    "            y_est = model.predict_proba(X_test)\n",
    "\n",
    "            # compute the deviance\n",
    "            deviance[i, k] = devianceFunc(Y_test, y_est)\n",
    "\n",
    "# Compute the average and std of the deviance over CV folds\n",
    "testError = np.mean(deviance, axis=0)\n",
    "testStd = np.std(deviance, axis=0)\n",
    "\n",
    "# Select the optimal lambda using the 1-std-rule\n",
    "# Select the lambda with the smallest deviance\n",
    "minErrorIdx = np.argmin(testError)\n",
    "# We start by finding all indices that are less than one standard error away from the minimum error\n",
    "J = np.where(testError < testError[minErrorIdx] + testStd[minErrorIdx])[0]\n",
    "# then we take the simplest model (furthest to the right)\n",
    "if len(J) > 0:\n",
    "    j = int(J[-1])\n",
    "else:\n",
    "    j = minErrorIdx\n",
    "\n",
    "Lambda_CV_1StdRule = lambdas[j]\n",
    "print(\"CV lambda 1 std rule %0.2f\" % Lambda_CV_1StdRule)\n",
    "\n",
    "plt.figure()\n",
    "plt.errorbar(lambdas, testError, testStd, marker=\".\", color=\"orange\", markersize=10)\n",
    "plt.semilogx(lambdas, testError)\n",
    "\n",
    "plt.xlabel(\"Lambda\")\n",
    "plt.ylabel(\"Deviance\")\n",
    "plt.title(\"Cross-validated deviance of Lasso fit\")\n",
    "plt.show()"
   ]
  },
  {
   "cell_type": "markdown",
   "metadata": {},
   "source": [
    "> c) How many variables do you end up with?\n",
    "\n",
    "We end up with 19 variables."
   ]
  },
  {
   "cell_type": "code",
   "execution_count": 32,
   "metadata": {},
   "outputs": [
    {
     "name": "stdout",
     "output_type": "stream",
     "text": [
      "The number of non-zero coefficients in our optimal model is: 19\n"
     ]
    }
   ],
   "source": [
    "# After we know our optimal lambda we can create our model with our training set\n",
    "X_train = X_standardizer.fit_transform(Xtrain)\n",
    "X_test = X_standardizer.transform(Xtest)\n",
    "model = LogisticRegression(\n",
    "    penalty=\"l1\", C=1 / Lambda_CV_1StdRule, solver=\"liblinear\", tol=1e-6\n",
    ")\n",
    "model = model.fit(X_train, Ytrain)\n",
    "\n",
    "nrCoefs = len(np.nonzero(model.coef_)[0])\n",
    "\n",
    "print(\"The number of non-zero coefficients in our optimal model is: %d\" % nrCoefs)"
   ]
  },
  {
   "cell_type": "markdown",
   "metadata": {},
   "source": [
    "> d) Use the obtained model to calculate accuracy on the test data."
   ]
  },
  {
   "cell_type": "code",
   "execution_count": 34,
   "metadata": {},
   "outputs": [
    {
     "name": "stdout",
     "output_type": "stream",
     "text": [
      "The accuracy for our optimal model is: 0.86\n"
     ]
    }
   ],
   "source": [
    "# Predict the class using the model trained above and calculate the accuracy\n",
    "Y_pred = model.predict(X_test)\n",
    "\n",
    "accuracy = np.mean(Y_pred == Ytest)\n",
    "\n",
    "print(\"The accuracy for our optimal model is: %0.2f\" % accuracy)"
   ]
  }
 ],
 "metadata": {
  "kernelspec": {
   "display_name": ".venv",
   "language": "python",
   "name": "python3"
  },
  "language_info": {
   "codemirror_mode": {
    "name": "ipython",
    "version": 3
   },
   "file_extension": ".py",
   "mimetype": "text/x-python",
   "name": "python",
   "nbconvert_exporter": "python",
   "pygments_lexer": "ipython3",
   "version": "3.13.2"
  }
 },
 "nbformat": 4,
 "nbformat_minor": 4
}
