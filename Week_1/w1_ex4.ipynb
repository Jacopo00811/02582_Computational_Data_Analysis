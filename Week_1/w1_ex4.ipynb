{
 "cells": [
  {
   "cell_type": "markdown",
   "metadata": {},
   "source": [
    "## Imports"
   ]
  },
  {
   "cell_type": "code",
   "execution_count": 1,
   "metadata": {},
   "outputs": [],
   "source": [
    "# To embed plots in the notebooks\n",
    "%matplotlib inline\n",
    "import matplotlib.pyplot as plt\n",
    "\n",
    "import numpy as np # numpy library\n",
    "import scipy . linalg as lng # linear algebra from scipy library\n",
    "from scipy . spatial import distance # load distance function\n",
    "from sklearn import preprocessing as preproc # load preprocessing function\n",
    "\n",
    "# seaborn can be used to \"prettify\" default matplotlib plots by importing and setting as default\n",
    "import seaborn as sns\n",
    "sns.set() # Set searborn as default"
   ]
  },
  {
   "cell_type": "markdown",
   "metadata": {},
   "source": [
    "## Load dataset"
   ]
  },
  {
   "cell_type": "code",
   "execution_count": 2,
   "metadata": {},
   "outputs": [],
   "source": [
    "diabetPath = \"./DiabetesDataNormalized.txt\"\n",
    "T = np.loadtxt(diabetPath, delimiter=\" \", skiprows=1)\n",
    "y = T[:, 10]\n",
    "X = T[:, :10]\n",
    "\n",
    "# Get number of observations (n) and number of independent variables (p)\n",
    "[n, p] = np.shape(X)"
   ]
  },
  {
   "cell_type": "markdown",
   "metadata": {},
   "source": [
    "## 4 Implement and solve KNN regression:\n",
    "> (a) Implement a KNN regression algorithm:\n",
    "\n",
    ">> (i) Find the K nearest neighbours using a suitable distance metric (e.g. Euclidean). Compute the predicted response as the mean of the K neighbours.\n",
    "\n"
   ]
  },
  {
   "cell_type": "code",
   "execution_count": 3,
   "metadata": {},
   "outputs": [
    {
     "name": "stdout",
     "output_type": "stream",
     "text": [
      "MSE value for K = 5 is: 0.6182202180421111\n"
     ]
    }
   ],
   "source": [
    "# Implement the algorithm for knn\n",
    "def knn(K, X, n):\n",
    "    yhat = np.zeros(n)\n",
    "    for i in range(n):\n",
    "        # calculate the distance between the i-th observation and all other observations\n",
    "        dist = np.zeros(n)\n",
    "        for j in range(n):\n",
    "            dist[j] = distance.euclidean(X[i,], X[j,])\n",
    "        # sort the distances and get the indices of the K nearest neighbours\n",
    "        idx = np.argsort(dist)\n",
    "        idx = idx[1 : (K + 1)]\n",
    "        # calculate the mean of the K nearest neighbours\n",
    "        yhat[i] = np.mean(y[idx])\n",
    "\n",
    "    return yhat\n",
    "\n",
    "\n",
    "# it would make sense to test it by evaluating the MSE\n",
    "K = 5  # number of neighbours\n",
    "yhat = knn(K, X, n)\n",
    "mse = np.mean((y - yhat) ** 2)\n",
    "# test implementation\n",
    "print(f\"MSE value for K = {K} is: {mse}\")\n",
    "# mse ~ 0.618 for K = 5"
   ]
  },
  {
   "cell_type": "markdown",
   "metadata": {},
   "source": [
    ">> (ii) Optional: Compute weights for the neighbours as the proportion of its distance to the total distance for the K nearest neighbours and Compute the predicted response as the (weighted) mean of the K neighbours."
   ]
  },
  {
   "cell_type": "code",
   "execution_count": null,
   "metadata": {},
   "outputs": [],
   "source": [
    "# Implement the algorithm for weighted knn\n",
    "def weighted_knn(K, X, n):\n",
    "    \n",
    "    \n",
    "    return yhat\n",
    "\n",
    "# it would make sense to test it  by evaluating the MSE\n",
    "K = 5 # number of neighbours\n",
    "yhat = weighted_knn(K, X, n)\n",
    "mse = \n",
    "# test implementation\n",
    "print(f'MSE value for K = {K} is: {mse}')\n",
    "# mse ~ 0.613 for K = 5"
   ]
  },
  {
   "cell_type": "markdown",
   "metadata": {},
   "source": [
    "> (b) Find a solution to the diabetes data using KNN regression. Try different options for K."
   ]
  },
  {
   "cell_type": "code",
   "execution_count": 4,
   "metadata": {},
   "outputs": [
    {
     "name": "stdout",
     "output_type": "stream",
     "text": [
      "MSE value for K = 1 is: 0.9906281304299507\n",
      "MSE value for K = 2 is: 0.7398431386613016\n",
      "MSE value for K = 3 is: 0.6850853168637211\n",
      "MSE value for K = 4 is: 0.6158572394178363\n",
      "MSE value for K = 5 is: 0.6182202180421111\n",
      "MSE value for K = 6 is: 0.5992118132856249\n",
      "MSE value for K = 7 is: 0.5863501627559116\n",
      "MSE value for K = 8 is: 0.5767130272153445\n",
      "MSE value for K = 9 is: 0.5700935840861078\n",
      "MSE value for K = 10 is: 0.5654832300943246\n",
      "MSE value for K = 11 is: 0.5680279732715863\n",
      "MSE value for K = 12 is: 0.5602706504533235\n",
      "MSE value for K = 13 is: 0.5599403804049441\n",
      "MSE value for K = 14 is: 0.552628647875982\n",
      "MSE value for K = 15 is: 0.5545890702335298\n",
      "MSE value for K = 16 is: 0.5497053102979395\n",
      "MSE value for K = 17 is: 0.5486242391693184\n",
      "MSE value for K = 18 is: 0.5399400684876451\n",
      "MSE value for K = 19 is: 0.5408240996325178\n",
      "MSE value for K = 20 is: 0.543472807951842\n"
     ]
    },
    {
     "data": {
      "image/png": "[encoded data removed]",
      "text/plain": [
       "<Figure size 640x480 with 1 Axes>"
      ]
     },
     "metadata": {},
     "output_type": "display_data"
    }
   ],
   "source": [
    "# Use the KNN algorithm previously created with different values for K\n",
    "\n",
    "# Define a range of K values to test\n",
    "K_values = range(1, 21)\n",
    "mse_values = []\n",
    "\n",
    "# Evaluate the MSE for each K\n",
    "for K in K_values:\n",
    "    yhat = knn(K, X, n)\n",
    "    mse = np.mean((y - yhat) ** 2)\n",
    "    mse_values.append(mse)\n",
    "    print(f\"MSE value for K = {K} is: {mse}\")\n",
    "\n",
    "# Plot the MSE values for different K\n",
    "plt.plot(K_values, mse_values, marker=\"o\")\n",
    "plt.xlabel(\"K\")\n",
    "plt.ylabel(\"MSE\")\n",
    "plt.title(\"MSE for different values of K\")\n",
    "plt.show()"
   ]
  },
  {
   "cell_type": "markdown",
   "metadata": {},
   "source": [
    "What happens when we increase K?\n",
    "\n",
    "Discuss the role of the chosen weights?\n",
    "\n",
    "When we increase K, the model becomes less sensitive to noise in the data, as it considers more neighbors to make predictions. However, if K is too large, the model may become too smooth and lose important details, leading to underfitting."
   ]
  }
 ],
 "metadata": {
  "kernelspec": {
   "display_name": ".venv",
   "language": "python",
   "name": "python3"
  },
  "language_info": {
   "codemirror_mode": {
    "name": "ipython",
    "version": 3
   },
   "file_extension": ".py",
   "mimetype": "text/x-python",
   "name": "python",
   "nbconvert_exporter": "python",
   "pygments_lexer": "ipython3",
   "version": "3.13.2"
  }
 },
 "nbformat": 4,
 "nbformat_minor": 2
}
