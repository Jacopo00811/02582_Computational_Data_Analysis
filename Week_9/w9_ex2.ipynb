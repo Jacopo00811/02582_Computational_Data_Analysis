{
 "cells": [
  {
   "cell_type": "markdown",
   "metadata": {},
   "source": [
    "## Imports"
   ]
  },
  {
   "cell_type": "code",
   "execution_count": 1,
   "metadata": {},
   "outputs": [],
   "source": [
    "import numpy as np\n",
    "from scipy.cluster.hierarchy import dendrogram, linkage, fcluster\n",
    "import matplotlib.pyplot as plt\n",
    "from pathlib import Path"
   ]
  },
  {
   "cell_type": "markdown",
   "metadata": {},
   "source": [
    "## Load dataset"
   ]
  },
  {
   "cell_type": "code",
   "execution_count": 2,
   "metadata": {},
   "outputs": [],
   "source": [
    "path = Path().cwd()\n",
    "\n",
    "clases_file = path.parent / \"Week_9\" / \"Data\" / \"ziplabel.csv\"\n",
    "responseLabels = np.loadtxt(clases_file)\n",
    "\n",
    "data_file = path.parent / \"Week_9\" / \"Data\" / \"zipdata.csv\"\n",
    "X = np.loadtxt(data_file, delimiter = \",\")\n",
    "\n",
    "n, p = np.shape(X)"
   ]
  },
  {
   "cell_type": "markdown",
   "metadata": {},
   "source": [
    "### 2 Perform hierarchical clustering on the zip data (example 3 in ESL). The data consist of 400 samples of handwritten digits 0-9 in 16x16 grayscale images (= 256 features)."
   ]
  },
  {
   "cell_type": "code",
   "execution_count": 3,
   "metadata": {},
   "outputs": [
    {
     "data": {
      "image/png": "[encoded data removed]",
      "text/plain": [
       "<Figure size 640x480 with 1 Axes>"
      ]
     },
     "metadata": {},
     "output_type": "display_data"
    }
   ],
   "source": [
    "#For additional information concerning heirachical clustering in python, look at;\n",
    "#https://joernhees.de/blog/2015/08/26/scipy-hierarchical-clustering-and-dendrogram-tutorial/\n",
    "\n",
    "d_sample = 'euclidean' #See possible values: https://docs.scipy.org/doc/scipy/reference/generated/scipy.spatial.distance.pdist.html#scipy.spatial.distance.pdist\n",
    "d_group = 'ward' #See possible values (method): https://docs.scipy.org/doc/scipy/reference/generated/scipy.cluster.hierarchy.linkage.html\n",
    "N_leafs = 10 #Number of leaf nodes. n=400\n",
    "\n",
    "Z = linkage(X, method=d_group, metric=d_sample) #method denotes cluster distance, metric denotes sample distance\n",
    "plt.figure()\n",
    "plt.title('Hierarchical Clustering Dendrogram')\n",
    "plt.xlabel('sample index')\n",
    "plt.ylabel('distance')\n",
    "\n",
    "#for scipy dendogram look at;\n",
    "#https://docs.scipy.org/doc/scipy/reference/generated/scipy.cluster.hierarchy.dendrogram.html\n",
    "\n",
    "den = dendrogram(\n",
    "    Z,\n",
    "    leaf_rotation=90.,\n",
    "    leaf_font_size=8.,\n",
    "    truncate_mode='lastp',\n",
    "    p = N_leafs,\n",
    ")\n",
    "plt.show()"
   ]
  },
  {
   "cell_type": "code",
   "execution_count": 4,
   "metadata": {},
   "outputs": [
    {
     "name": "stdout",
     "output_type": "stream",
     "text": [
      "The labels associated with cluster 1 is:\n",
      "[0. 0. 0. 0. 0. 0. 0. 0. 0. 0. 0. 0. 0. 0. 0. 0. 0. 0. 0. 0. 0. 0. 0. 0.\n",
      " 0. 0. 0. 0. 0. 0. 0. 0. 0. 0. 0. 0. 0. 0. 0. 0.]\n",
      "\n",
      "\n",
      "The labels associated with cluster 2 is:\n",
      "[1. 1. 1. 1. 1. 1. 1. 1. 1. 1. 1. 1. 1. 1. 1. 1. 1. 1. 1. 1. 1. 1. 1. 1.\n",
      " 1. 1. 1. 1. 1. 1. 1. 1. 1. 1. 1. 1. 1. 1. 1. 1. 1. 1. 1. 1. 1. 1. 1. 1.\n",
      " 1. 1.]\n",
      "\n",
      "\n",
      "The labels associated with cluster 3 is:\n",
      "[4. 6. 7. 7. 4. 7. 4. 4. 4. 4. 4. 4. 4. 4. 9. 9. 4. 9. 9. 4. 4. 4. 4. 4.\n",
      " 4. 4. 4. 7. 4. 2. 4. 4. 9. 4. 9. 5. 4. 4. 9. 4. 4. 9. 9. 7. 9. 4. 4. 5.\n",
      " 4.]\n",
      "\n",
      "\n",
      "The labels associated with cluster 4 is:\n",
      "[7. 7. 4. 8. 7. 7. 7. 7. 7. 7. 7. 7. 2. 8. 7. 9. 7. 7. 9. 9. 9. 4. 7. 7.\n",
      " 9. 8. 9. 9. 7. 9. 7. 7. 7. 7. 7. 8. 7. 7. 7. 7. 7. 7. 9. 7. 7. 9. 9. 8.\n",
      " 8. 7. 9. 9. 7. 8. 3. 9. 9. 7. 8.]\n",
      "\n",
      "\n",
      "The labels associated with cluster 5 is:\n",
      "[0. 0. 0. 0. 0. 0. 0. 0. 0. 0. 0. 0. 0. 0. 0. 0. 0. 0. 0. 0. 0. 2. 0. 0.]\n",
      "\n",
      "\n",
      "The labels associated with cluster 6 is:\n",
      "[6. 6. 5. 0. 6. 0. 6. 6. 6. 6. 6. 0. 6. 6. 6. 6. 6. 6. 6. 6. 6. 6. 6. 6.\n",
      " 6. 6. 6. 6. 6. 6. 5. 6. 6. 6. 6. 6. 6. 6. 6. 6. 6.]\n",
      "\n",
      "\n",
      "The labels associated with cluster 7 is:\n",
      "[8. 8. 8. 8. 8. 8. 8. 8. 8. 8. 8. 8. 8. 8. 8. 8. 8.]\n",
      "\n",
      "\n",
      "The labels associated with cluster 8 is:\n",
      "[5. 3. 3. 8. 3. 3. 3. 2. 3. 3. 8. 8. 2. 3. 3. 2. 2. 8. 3. 3. 8. 2. 5. 3.\n",
      " 3. 5. 5. 3. 3. 5. 3. 2. 3. 8. 5. 8. 3. 8. 3. 5. 5. 3. 5. 8. 8. 8. 8. 5.\n",
      " 3. 2. 8. 5. 3. 5. 5. 2. 5. 5. 5. 2.]\n",
      "\n",
      "\n",
      "The labels associated with cluster 9 is:\n",
      "[4. 0. 6. 6. 2. 9. 8. 8. 8. 8. 2. 7. 2. 4. 2. 6. 9. 8. 8. 2. 3. 3. 7. 6.\n",
      " 7. 7. 6. 8. 6. 6.]\n",
      "\n",
      "\n",
      "The labels associated with cluster 10 is:\n",
      "[2. 2. 2. 2. 2. 2. 2. 2. 2. 2. 2. 2. 2. 2. 2. 2. 2. 2. 2. 2. 2. 2. 2. 2.\n",
      " 2. 2. 2. 2. 2. 2.]\n",
      "\n",
      "\n"
     ]
    }
   ],
   "source": [
    "#look at the individual clusters\n",
    "k=10 #Number of clusters. Determine a usable number from dendrogram\n",
    "\n",
    "cluster_designation = fcluster(Z, k, criterion='maxclust') #Get cluster designation of data points\n",
    "\n",
    "for i in range(1,k+1):\n",
    "    datapoints = np.where(cluster_designation==i,)\n",
    "    print('The labels associated with cluster {} is:'.format(i))\n",
    "    print(responseLabels[datapoints])\n",
    "    print('\\n')"
   ]
  }
 ],
 "metadata": {
  "kernelspec": {
   "display_name": ".venv",
   "language": "python",
   "name": "python3"
  },
  "language_info": {
   "codemirror_mode": {
    "name": "ipython",
    "version": 3
   },
   "file_extension": ".py",
   "mimetype": "text/x-python",
   "name": "python",
   "nbconvert_exporter": "python",
   "pygments_lexer": "ipython3",
   "version": "3.13.2"
  }
 },
 "nbformat": 4,
 "nbformat_minor": 4
}
